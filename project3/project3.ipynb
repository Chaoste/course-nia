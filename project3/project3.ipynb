{
 "cells": [
  {
   "cell_type": "markdown",
   "metadata": {},
   "source": [
    "# Project 3\n",
    "\n",
    "- Load (symmetric) TSP data from http://www.iwr.uni-heidelberg.de/groups/comopt/software/TSPLIB95/ \n",
    "- For opening the data use https://github.com/tsartsaris/TSPLIB-python-parser\n",
    "- Apply the MMAS algorithm described in the exercise sheet"
   ]
  },
  {
   "cell_type": "code",
   "execution_count": 3,
   "metadata": {
    "collapsed": true
   },
   "outputs": [],
   "source": [
    "import itertools as it\n",
    "import time\n",
    "import numpy as np"
   ]
  },
  {
   "cell_type": "code",
   "execution_count": 65,
   "metadata": {
    "collapsed": true
   },
   "outputs": [],
   "source": [
    "'''\n",
    "    Max-Mint Ant System for solving the traveling salesman problem\n",
    "    Parameters:\n",
    "        G - mapping of nodes with their coordinates\n",
    "        OPT - length of the optimal route (given with the dataset)\n",
    "    Optional values (given as keyword arguments):\n",
    "        rho  (default: 1 / n)\n",
    "        tau_min  (default: 1 / n**2)\n",
    "        tau_max  (default: n - 1 / n)\n",
    "        alpha  (default: 1)\n",
    "        beta  (default: 0)\n",
    "'''\n",
    "class MMAS:\n",
    "    def __init__(self, G, OPT, **kwargs):\n",
    "        self.N, self.n, self.am = self._process_graph(G)\n",
    "        self.OPT = OPT\n",
    "        self.start_time = None\n",
    "        self.wall_clock_time = 6  # For the beginning test 6 seconds - Later: 10 * 60 (10 minutes)\n",
    "        # Pheromone values stored in an adjacent matrix (initial 1 / n for each edge, otherwise 0)\n",
    "        self.tau = self._init_tau()\n",
    "        # Parameters of the algorithm\n",
    "        self.rho = kwargs.get('rho') or 1 / self.n\n",
    "        self.tau_min = kwargs.get('tau_min') or 1 / self.n**2\n",
    "        self.tau_max = kwargs.get('tau_max') or self.n - 1 / self.n\n",
    "        self.alpha = kwargs.get('alpha') or 1\n",
    "        self.beta = kwargs.get('beta') or 0\n",
    "        \n",
    "    def _process_graph(self, G):\n",
    "        n = len(G)\n",
    "        # Assuming that the ids are from 1 to n\n",
    "        N = np.arange(n)\n",
    "        positions = np.zeros((n, 2), dtype=np.float)\n",
    "        # Collect all positions assuming that the nodes are sorted by id\n",
    "        positions = [(float(x), float(y)) for x, y in G.values()]\n",
    "        # Generate adjacent matrix containing the euclidean distances between nodes\n",
    "        am = np.zeros((n, n), dtype=np.float)\n",
    "        for i, j in it.combinations(N, 2):\n",
    "            i_x, i_y = positions[i]\n",
    "            j_x, j_y = positions[j]\n",
    "            am[i, j] = am[j, i] = np.hypot((i_x - j_x), (i_y - j_y))\n",
    "        return N, n, am\n",
    "        \n",
    "    def _init_tau(self):\n",
    "        return np.array([[int(x != y) / self.n for x in range(self.n)] for y in range(self.n)])\n",
    "\n",
    "    #--------------------------------------------------------------------------------------------------------------\n",
    "    # Methods for execution\n",
    "    #--------------------------------------------------------------------------------------------------------------\n",
    "    \n",
    "    def _route_length(self, x):\n",
    "        # Sum up the distances between all traversed nodes\n",
    "        return sum([self.am[x[i], x[i+1]] for i in range(len(x) - 1)])\n",
    "    \n",
    "    def _is_optimum_found(self, x):\n",
    "        # Optimal value found or the wall clock time is reached\n",
    "        return (self._route_length(x) == self.OPT or\n",
    "                time.time() - self.start_time > self.wall_clock_time)\n",
    "    \n",
    "    def _update_tau(self, x):\n",
    "        # TODO:\n",
    "        # Update self.tau regarding the path x (list of visited nodes)\n",
    "        pass\n",
    "    \n",
    "    def _construct(self):\n",
    "        # Create a route based on the pheromone values in self.tau\n",
    "        route = np.empty(self.n, dtype=np.int)\n",
    "        # Setup a visited array to prevent visiting a node twice\n",
    "        visited = np.zeros(self.n, dtype=np.bool)\n",
    "        # Start at a random node\n",
    "        route[0] = np.random.randint(self.n)\n",
    "        visited[route[0]] = True\n",
    "        for i in range(self.n - 1):\n",
    "            v_k = route[i]\n",
    "            left_nodes = np.array([(z, self.tau[v_k, z]**self.alpha / self.am[v_k, z]**self.beta)\n",
    "                                   for z in self.N if not visited[z]])\n",
    "            R = left_nodes[:, 1].sum()\n",
    "            route[i + 1] = np.random.choice(left_nodes[:, 0], p=left_nodes[:, 1] / R)\n",
    "            visited[route[i + 1]] = True\n",
    "        return route\n",
    "    \n",
    "    def __call__(self):\n",
    "        self.start_time = time.time()\n",
    "        best_x = self._construct()\n",
    "        self._update_tau(best_x)\n",
    "        while not self._is_optimum_found(best_x):\n",
    "            x = self._construct()\n",
    "            if self._route_length(x) < self._route_length(best_x):\n",
    "                best_x = x\n",
    "            self._update_tau(best_x)\n",
    "        return best_x, self._route_length(best_x)"
   ]
  },
  {
   "cell_type": "code",
   "execution_count": 66,
   "metadata": {
    "collapsed": false
   },
   "outputs": [
    {
     "data": {
      "text/plain": [
       "(array([ 2,  1, 11, 14,  5,  6,  4, 12, 15,  0,  3,  7,  9,  8, 13, 10]),\n",
       " 83.801096822441664)"
      ]
     },
     "execution_count": 66,
     "metadata": {},
     "output_type": "execute_result"
    }
   ],
   "source": [
    "# Always receive the same random decisions\n",
    "np.random.seed(0)\n",
    "# Sample data from the python library\n",
    "sample = dict([(1, ('38.24', '20.42')), (2, ('39.57', '26.15')), (3, ('40.56', '25.32')), (4, ('36.26', '23.12')), (5, ('33.48', '10.54')), (6, ('37.56', '12.19')), (7, ('38.42', '13.11')), (8, ('37.52', '20.44')), (9, ('41.23', '9.10')), (10, ('41.17', '13.05')), (11, ('36.08', '-5.21')), (12, ('38.47', '15.13')), (13, ('38.15', '15.35')), (14, ('37.51', '15.17')), (15, ('35.49', '14.32')), (16, ('39.36', '19.56'))])\n",
    "MMAS(sample, -1)()"
   ]
  },
  {
   "cell_type": "code",
   "execution_count": 12,
   "metadata": {
    "collapsed": false
   },
   "outputs": [
    {
     "data": {
      "text/plain": [
       "[((0, 'a'), (1, 'b')), ((0, 'a'), (2, 'c')), ((1, 'b'), (2, 'c'))]"
      ]
     },
     "execution_count": 12,
     "metadata": {},
     "output_type": "execute_result"
    }
   ],
   "source": [
    "list(it.combinations([enumerate(['a', 'b', 'c']), enumerate(['a', 'b', 'c'])], 2))"
   ]
  }
 ],
 "metadata": {
  "kernelspec": {
   "display_name": "Python 3",
   "language": "python",
   "name": "python3"
  },
  "language_info": {
   "codemirror_mode": {
    "name": "ipython",
    "version": 3
   },
   "file_extension": ".py",
   "mimetype": "text/x-python",
   "name": "python",
   "nbconvert_exporter": "python",
   "pygments_lexer": "ipython3",
   "version": "3.5.2"
  }
 },
 "nbformat": 4,
 "nbformat_minor": 1
}
