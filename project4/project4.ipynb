{
 "cells": [
  {
   "cell_type": "markdown",
   "metadata": {},
   "source": [
    "# Project 4\n",
    "The data for this project is real data provided to us by the HPI School of Design Thinking. You are given as input a table stored in CSV format in a file named ‘project4.csv’. This table has 321 rows and five columns. Each row corresponds\n",
    "to a student and the columns are as follows:\n",
    "\n",
    "< hash > < Sex > < Discipline > < Nationality > < Semester >\n",
    "\n",
    "- The < hash > field contains a cryptographic hash of the student’s name (for privacy reasons).\n",
    "- The sex field contains ‘m’ for male and ‘f’ for female.\n",
    "- The Discipline field contains one of the following seven entries:\n",
    "    ‘Business’, ‘Creative Disciplines’, ‘Engineering’, ‘Humanities’, ‘Life Sciences’, ‘Media’ or ‘Social Sciences’.\n",
    "- The Nationality field contains one of 37 nationalities, depending on the selfreported nationality of the student.\n",
    "- The Semester field contains the semester in which that student was enrolled. This is stored as a code that indicates the semester and year. For example, the students in Winter 2015 semester have WT-15 (for Winter Term), and the students enrolled in this semester have the code ST-17."
   ]
  },
  {
   "cell_type": "code",
   "execution_count": 73,
   "metadata": {
    "collapsed": true
   },
   "outputs": [],
   "source": [
    "import imp\n",
    "import numpy as np\n",
    "import pandas as pd\n",
    "import utils\n",
    "from matplotlib import pyplot as plt\n",
    "%matplotlib inline\n",
    "\n",
    "students = pd.read_csv('project4.csv')"
   ]
  },
  {
   "cell_type": "markdown",
   "metadata": {},
   "source": [
    "## Teaming 1 (Arbitrary teaming)"
   ]
  },
  {
   "cell_type": "code",
   "execution_count": 162,
   "metadata": {},
   "outputs": [],
   "source": [
    "teaming1 = utils.process_semesters(students, utils.arbitrary_teaming)\n",
    "utils.store_teaming(teaming1, \"output/teaming1.out\")"
   ]
  },
  {
   "cell_type": "markdown",
   "metadata": {},
   "source": [
    "## Teaming 2 (Intra-team diversity)"
   ]
  },
  {
   "cell_type": "markdown",
   "metadata": {},
   "source": [
    "#### Defining the multi objective problem"
   ]
  },
  {
   "cell_type": "code",
   "execution_count": 170,
   "metadata": {},
   "outputs": [],
   "source": [
    "def metric_gender_balance(team):\n",
    "    k = len(team)\n",
    "    assert k in (5,6), team\n",
    "    men_share = sum(team['Sex'] == 'm') / k\n",
    "    women_share = 1 - men_share\n",
    "    opt_balance = np.ceil(k/2) * np.trunc(k/2) / k**2\n",
    "    return 1 - men_share * women_share / opt_balance\n",
    "\n",
    "def metric_discipline(team):\n",
    "    k = len(team)\n",
    "    occurences = team['Discipline'].value_counts()\n",
    "    l2norm = np.sqrt((occurences**2).sum())\n",
    "    return (l2norm - np.sqrt(k))/(k-np.sqrt(k))\n",
    "\n",
    "def metric_nationality(team):\n",
    "    k = len(team)\n",
    "    occurences = team['Nationality'].value_counts()\n",
    "    l2norm = np.sqrt((occurences**2).sum())\n",
    "    return (l2norm - np.sqrt(k))/(k-np.sqrt(k))\n",
    "\n",
    "def metric_collision(students, team, previous_teaming=None):\n",
    "    # We have to consider to whole previous teaming over all semester\n",
    "    # because there is a student which occurs in two semester and therefore\n",
    "    # he might collide with any other students from both teams.\n",
    "    if previous_teaming is None:\n",
    "        return 0\n",
    "    # TODO Count collisions\n",
    "    return 0\n",
    "\n",
    "def multi_objective(team, previous_teaming=None):\n",
    "    metric = pd.Series(index=['Gender', 'Discipline', 'Nationality', 'Collision'])\n",
    "    metric['Gender'] = metric_gender_balance(team)\n",
    "    metric['Discipline'] = metric_discipline(team)\n",
    "    metric['Nationality'] = metric_nationality(team)\n",
    "    metric['Collision'] = metric_collision(team, previous_teaming)\n",
    "    # print('{:.2f},{:.2f},{:.2f},{:.2f}'.format(\n",
    "    #    metric['Gender'], metric['Discipline'], metric['Nationality'], metric['Collision']))\n",
    "    # print(team.head())\n",
    "    return metric\n",
    "    \n",
    "def sem_multi_objective(teaming, previous_teaming=None):\n",
    "    results = []\n",
    "    for i in range(16):\n",
    "        team = teaming[teaming['Team'] == i+1]\n",
    "        results.append(multi_objective(team, previous_teaming))\n",
    "    results = pd.DataFrame(results)\n",
    "    # Take the average for each objective\n",
    "    return np.mean(results, axis=0)\n",
    "\n",
    "def overall_multi_objective(teaming, previous_teaming=None):\n",
    "    results = []\n",
    "    for semester in ('WT-15', 'ST-16', 'WT-16', 'ST-17'):\n",
    "        sem_teaming = teaming[teaming['Semester'] == semester]\n",
    "        assert len(sem_teaming) in (80, 81),\\\n",
    "            'Expected 80 or 81 students but got {}'.format(len(sem_teaming))\n",
    "        results.append(sem_multi_objective(sem_teaming, previous_teaming))\n",
    "    return np.mean(results, axis=0)"
   ]
  },
  {
   "cell_type": "code",
   "execution_count": 175,
   "metadata": {},
   "outputs": [
    {
     "name": "stdout",
     "output_type": "stream",
     "text": [
      "Multi-objective metric for teaming 1: GenderBalance=0.29, Disciplines=0.38, Nationalities=0.63, Collision=0.00\n"
     ]
    }
   ],
   "source": [
    "teaming1_metric = overall_multi_objective(teaming1)\n",
    "utils.print_metric(teaming1_metric, 'teaming 1')"
   ]
  },
  {
   "cell_type": "markdown",
   "metadata": {},
   "source": [
    "#### Applying SEMO"
   ]
  },
  {
   "cell_type": "code",
   "execution_count": 164,
   "metadata": {},
   "outputs": [
    {
     "data": {
      "text/plain": [
       "'\"hash\",\"team\",\"Semester\"\\n'"
      ]
     },
     "execution_count": 164,
     "metadata": {},
     "output_type": "execute_result"
    }
   ],
   "source": [
    "imp.reload(utils)\n",
    "teaming2 = utils.process_semesters(students, utils.intra_diversity_teaming)\n",
    "utils.store_teaming(teaming2)  # \"output/teaming2.out\")"
   ]
  },
  {
   "cell_type": "code",
   "execution_count": null,
   "metadata": {
    "collapsed": true
   },
   "outputs": [],
   "source": [
    "teaming2_metric = overall_multi_objective(teaming2)\n",
    "utils.print_metric(teaming2_metric, 'teaming 2')"
   ]
  },
  {
   "cell_type": "markdown",
   "metadata": {},
   "source": [
    "### Data analysis:\n",
    "\n",
    "| Semester | Sex | Discipline | Nationality |\n",
    "|:--------:|:----|:-----------|:------------|\n",
    "| WT-15 | 34:46 | 18:06:23:10:10:11 | ? |\n",
    "| ST-16 | 43:37 | 25:10:22:06:06:11 | ? |\n",
    "| WT-16 | 42:38 | 20:10:23:03:06:18 | ? |\n",
    "| ST-17 | 45:36 | 22:08:20:05:06:20 | ? |\n",
    "\n",
    "The values are not equally distributed so we will have teams with more and some with less diversity."
   ]
  },
  {
   "cell_type": "markdown",
   "metadata": {},
   "source": [
    "## Teaming 3 (Inter-team diversity)"
   ]
  },
  {
   "cell_type": "markdown",
   "metadata": {},
   "source": [
    "## Teaming 4 (Double inter-team diversity)"
   ]
  },
  {
   "cell_type": "markdown",
   "metadata": {},
   "source": [
    "# Paper notes\n",
    "\n",
    "Regarding the problem definition and selection of a fitting algorithm:\n",
    "\n",
    "It might be that for one team of a semester the number of disciplines is in conflict with the number of nationalities. Therefore we assume that this multi-objective problem is a nontrivial one. A algorithm for this problem has to look for a nondominated (Pareto optimal) solution.\n",
    "\n",
    "We've chosen the Simple Evolutionary Multi-objective Optimization (SEMO) algorithm proposed by [Laumanns et al.][0]\n",
    "\n",
    "\n",
    "\n",
    "\n",
    "[0]: http://repository.ias.ac.in/83516/1/20-a.pdf"
   ]
  }
 ],
 "metadata": {
  "kernelspec": {
   "display_name": "Python 3",
   "language": "python",
   "name": "python3"
  },
  "language_info": {
   "codemirror_mode": {
    "name": "ipython",
    "version": 3
   },
   "file_extension": ".py",
   "mimetype": "text/x-python",
   "name": "python",
   "nbconvert_exporter": "python",
   "pygments_lexer": "ipython3",
   "version": "3.5.2"
  }
 },
 "nbformat": 4,
 "nbformat_minor": 2
}
