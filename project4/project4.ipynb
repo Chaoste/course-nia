{
 "cells": [
  {
   "cell_type": "markdown",
   "metadata": {},
   "source": [
    "# Project 4\n",
    "The data for this project is real data provided to us by the HPI School of Design Thinking. You are given as input a table stored in CSV format in a file named ‘project4.csv’. This table has 321 rows and five columns. Each row corresponds\n",
    "to a student and the columns are as follows:\n",
    "\n",
    "< hash > < Sex > < Discipline > < Nationality > < Semester >\n",
    "\n",
    "- The < hash > field contains a cryptographic hash of the student’s name (for privacy reasons).\n",
    "- The sex field contains ‘m’ for male and ‘f’ for female.\n",
    "- The Discipline field contains one of the following seven entries:\n",
    "    ‘Business’, ‘Creative Disciplines’, ‘Engineering’, ‘Humanities’, ‘Life Sciences’, ‘Media’ or ‘Social Sciences’.\n",
    "- The Nationality field contains one of 37 nationalities, depending on the selfreported nationality of the student.\n",
    "- The Semester field contains the semester in which that student was enrolled. This is stored as a code that indicates the semester and year. For example, the students in Winter 2015 semester have WT-15 (for Winter Term), and the students enrolled in this semester have the code ST-17."
   ]
  },
  {
   "cell_type": "code",
   "execution_count": 146,
   "metadata": {},
   "outputs": [],
   "source": [
    "import imp\n",
    "import numpy as np\n",
    "import pandas as pd\n",
    "import utils\n",
    "from matplotlib import pyplot as plt\n",
    "%matplotlib inline\n",
    "\n",
    "students = pd.read_csv('project4.csv')"
   ]
  },
  {
   "cell_type": "markdown",
   "metadata": {},
   "source": [
    "## Teaming 1 (Arbitrary teaming)"
   ]
  },
  {
   "cell_type": "code",
   "execution_count": 161,
   "metadata": {},
   "outputs": [],
   "source": [
    "teaming1 = utils.process_semesters(students, utils.arbitrary_teaming)\n",
    "utils.store_teaming(teaming1, \"output/teaming1.out\")"
   ]
  },
  {
   "cell_type": "markdown",
   "metadata": {},
   "source": [
    "## Teaming 2 (Intra-team diversity)"
   ]
  },
  {
   "cell_type": "markdown",
   "metadata": {},
   "source": [
    "#### Defining the multi objective problem"
   ]
  },
  {
   "cell_type": "code",
   "execution_count": null,
   "metadata": {
    "collapsed": true
   },
   "outputs": [],
   "source": [
    "def multi_objective(students, team):\n",
    "    return 0\n",
    "    \n",
    "def sem_multi_objective(students, teaming, semester):\n",
    "    return 0\n",
    "\n",
    "def overall_multi_objective(students, teaming, target_func):\n",
    "    result = []\n",
    "    for semester in ('WT-15', 'ST-16', 'WT-16', 'ST-17'):\n",
    "        sem_teaming = teaming[teaming['Semester'] == semester]\n",
    "        assert len(sem_teaming) in (80, 81),\\\n",
    "            'Expected 80 or 81 students but got {}'.format(len(sem_teaming))\n",
    "        partial_result = target_func(students, sem_teaming, semester)\n",
    "        result.append(partial_result**2)\n",
    "    # Apply l2-norm\n",
    "    return np.sqrt(sum(result))\n",
    "    \n",
    "print(multi_objective(teaming1))"
   ]
  },
  {
   "cell_type": "code",
   "execution_count": 209,
   "metadata": {},
   "outputs": [
    {
     "ename": "NameError",
     "evalue": "name 'sqrt' is not defined",
     "output_type": "error",
     "traceback": [
      "\u001b[1;31m---------------------------------------------------------------------------\u001b[0m",
      "\u001b[1;31mNameError\u001b[0m                                 Traceback (most recent call last)",
      "\u001b[1;32m<ipython-input-209-d08e37af0504>\u001b[0m in \u001b[0;36m<module>\u001b[1;34m()\u001b[0m\n\u001b[1;32m----> 1\u001b[1;33m \u001b[0msqrt\u001b[0m\u001b[1;33m(\u001b[0m\u001b[0msum\u001b[0m\u001b[1;33m(\u001b[0m\u001b[1;33m[\u001b[0m\u001b[1;36m3\u001b[0m\u001b[1;33m**\u001b[0m\u001b[1;36m2\u001b[0m\u001b[1;33m,\u001b[0m \u001b[1;36m4\u001b[0m\u001b[1;33m**\u001b[0m\u001b[1;36m2\u001b[0m\u001b[1;33m]\u001b[0m\u001b[1;33m)\u001b[0m\u001b[1;33m)\u001b[0m\u001b[1;33m\u001b[0m\u001b[0m\n\u001b[0m",
      "\u001b[1;31mNameError\u001b[0m: name 'sqrt' is not defined"
     ]
    }
   ],
   "source": [
    "sqrt(sum([3**2, 4**2]))"
   ]
  },
  {
   "cell_type": "markdown",
   "metadata": {},
   "source": [
    "#### Applying SEMO"
   ]
  },
  {
   "cell_type": "code",
   "execution_count": 164,
   "metadata": {},
   "outputs": [
    {
     "data": {
      "text/plain": [
       "'\"hash\",\"team\",\"Semester\"\\n'"
      ]
     },
     "execution_count": 164,
     "metadata": {},
     "output_type": "execute_result"
    }
   ],
   "source": [
    "imp.reload(utils)\n",
    "teaming2 = utils.process_semesters(students, utils.intra_diversity_teaming)\n",
    "utils.store_teaming(teaming2)  # \"output/teaming2.out\")"
   ]
  },
  {
   "cell_type": "markdown",
   "metadata": {},
   "source": [
    "### Data analysis:\n",
    "\n",
    "| Semester | Sex | Discipline | Nationality |\n",
    "|:--------:|:----|:-----------|:------------|\n",
    "| WT-15 | 34:46 | 18:06:23:10:10:11 | ? |\n",
    "| ST-16 | 43:37 | 25:10:22:06:06:11 | ? |\n",
    "| WT-16 | 42:38 | 20:10:23:03:06:18 | ? |\n",
    "| ST-17 | 45:36 | 22:08:20:05:06:20 | ? |\n",
    "\n",
    "The values are not equally distributed so we will have teams with more and some with less diversity."
   ]
  },
  {
   "cell_type": "markdown",
   "metadata": {},
   "source": [
    "## Teaming 3 (Inter-team diversity)"
   ]
  },
  {
   "cell_type": "markdown",
   "metadata": {},
   "source": [
    "## Teaming 4 (Double inter-team diversity)"
   ]
  },
  {
   "cell_type": "markdown",
   "metadata": {},
   "source": [
    "# Paper notes\n",
    "\n",
    "Regarding the problem definition and selection of a fitting algorithm:\n",
    "\n",
    "It might be that for one team of a semester the number of disciplines is in conflict with the number of nationalities. Therefore we assume that this multi-objective problem is a nontrivial one. A algorithm for this problem has to look for a nondominated (Pareto optimal) solution.\n",
    "\n",
    "We've chosen the Simple Evolutionary Multi-objective Optimization (SEMO) algorithm proposed by [Laumanns et al.][0]\n",
    "\n",
    "\n",
    "\n",
    "\n",
    "[0]: http://repository.ias.ac.in/83516/1/20-a.pdf"
   ]
  }
 ],
 "metadata": {
  "kernelspec": {
   "display_name": "Python 3",
   "language": "python",
   "name": "python3"
  },
  "language_info": {
   "codemirror_mode": {
    "name": "ipython",
    "version": 3
   },
   "file_extension": ".py",
   "mimetype": "text/x-python",
   "name": "python",
   "nbconvert_exporter": "python",
   "pygments_lexer": "ipython3",
   "version": "3.5.2"
  }
 },
 "nbformat": 4,
 "nbformat_minor": 2
}
