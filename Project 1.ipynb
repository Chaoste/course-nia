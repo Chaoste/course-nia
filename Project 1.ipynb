{
 "cells": [
  {
   "cell_type": "code",
   "execution_count": 328,
   "metadata": {
    "collapsed": true
   },
   "outputs": [],
   "source": [
    "from matplotlib import pyplot as plt\n",
    "import matplotlib as mpl\n",
    "import numpy as np\n",
    "%matplotlib inline"
   ]
  },
  {
   "cell_type": "markdown",
   "metadata": {},
   "source": [
    "### Target functions"
   ]
  },
  {
   "cell_type": "code",
   "execution_count": 412,
   "metadata": {
    "collapsed": false
   },
   "outputs": [],
   "source": [
    "def one_max(x):\n",
    "    return x.sum()\n",
    "\n",
    "def leading_ones(x):\n",
    "    is_one = x == 1\n",
    "    if all(is_one):\n",
    "        return len(x)\n",
    "    return np.argmin(is_one)\n",
    "\n",
    "def jump(x, k=3):\n",
    "    sum_ = x.sum()\n",
    "    if len(x) == sum_:\n",
    "        return len(x)\n",
    "    return min(len(x) - k, sum_)\n",
    "\n",
    "def bin_val(x):\n",
    "    sum_ = 0\n",
    "    for i, bit in enumerate(reversed(x)):\n",
    "        if bit:\n",
    "            sum_ += bit * 2**i\n",
    "    return sum_\n",
    "\n",
    "def royal_roads(x, k=5):\n",
    "    # assert len(x) % k == 0, 'n must be divisible by k'\n",
    "    return np.sum(np.sum(np.split(x, len(x) / k), axis=1) == k)\n",
    "\n",
    "problems = (one_max, leading_ones, jump, bin_val, royal_roads)\n",
    "\n",
    "\n",
    "def is_max(x):\n",
    "    # Return if x is the maximal possible value\n",
    "    return x.sum() == len(x)"
   ]
  },
  {
   "cell_type": "markdown",
   "metadata": {},
   "source": [
    "### Optimization functions (\"evolutionary algorithms\")"
   ]
  },
  {
   "cell_type": "markdown",
   "metadata": {},
   "source": [
    "Algorithm 1: RLS\n",
    "\n",
    "    1 Choose x uniformly at random from {0, 1}^n;\n",
    "    2 while stopping criterion not met do\n",
    "    3   y ← x;\n",
    "    4   Choose i uniformly at random from {1, . . . , n};\n",
    "    5   yi ← (1 − yi);\n",
    "    6   if f(y) ≥ f(x) then x ← y;"
   ]
  },
  {
   "cell_type": "code",
   "execution_count": 350,
   "metadata": {
    "collapsed": false
   },
   "outputs": [],
   "source": [
    "def rls(n, target_func, only_greater=False):\n",
    "    x = np.random.randint(0, 2, n)\n",
    "    steps = 0\n",
    "    while not is_max(x):\n",
    "        y = x.copy()\n",
    "        idx = np.random.randint(len(y))\n",
    "        y[idx] = not y[idx]\n",
    "        if (target_func(y) > target_func(x) or\n",
    "                (not only_greater and target_func(y) == target_func(x))):\n",
    "            x = y\n",
    "        steps += 1\n",
    "    return steps\n",
    "\n",
    "# TODO: Evolutionary algorithm (1+1)-EA\n",
    "\n",
    "# TODO: Evolutionary algorithm lambda (1+lambda)-EA"
   ]
  },
  {
   "cell_type": "markdown",
   "metadata": {},
   "source": [
    "### Evaluation"
   ]
  },
  {
   "cell_type": "code",
   "execution_count": 414,
   "metadata": {
    "collapsed": false
   },
   "outputs": [],
   "source": [
    "def evaluate(n, opt_func, problem, only_greater=False):\n",
    "    problem_runtimes = np.empty(10)\n",
    "    for i in range(10):\n",
    "        problem_runtimes[i] = opt_func(n, problem, only_greater)\n",
    "    return problem_runtimes\n",
    "\n",
    "def evaluate_problem(ns, opt_func, problem, ax, only_greater=False):\n",
    "    problems_runtimes = np.empty((len(ns), 10))\n",
    "    for i, n in enumerate(ns):\n",
    "        problems_runtimes[i] = evaluate(n, opt_func, problem, only_greater)\n",
    "        print(\".\", end=\"\")\n",
    "    print(\"\")\n",
    "    ax.plot(runtimes.mean(axis=1), label=opt_func.__name__)\n",
    "    if len(ns) > 40:\n",
    "        # Only show each 20th tick on the x axis\n",
    "        plt.xticks(np.arange(0, len(ns), len(ns) // 20), ns[::len(ns) // 20])\n",
    "    else:\n",
    "        plt.xticks(np.arange(0, len(ns)), ns)\n",
    "    return problems_runtimes\n",
    "\n",
    "def evaluate_algorithm(ns, opt_func, title, ax, only_greater=False):\n",
    "    # One optimizing algorithm which gets executed on all given problems (globally defined)\n",
    "    for p in problems:\n",
    "        evaluate_problem(ns, opt_func, p, ax, only_greater)\n",
    "    ax.set_xlabel('n')\n",
    "    ax.set_ylabel('Steps')\n",
    "    ax.set_title(title)\n",
    "    ax.legend()\n",
    "    pass\n",
    "\n",
    "def evaluate_all(ns, filename, algos, only_greater=False):\n",
    "    # All optimizing algorithm are executed on all defined problems\n",
    "    fig, axes = plt.subplots(len(algos), 1, figsize=(16, 8 * len(algos)))\n",
    "    # Hotfix to make \"axes.flat\" work for only one algorithm\n",
    "    if len(algos) == 1:\n",
    "        axes = np.array([axes])\n",
    "    for algo, ax in zip(algos, axes.flat):\n",
    "        evaluate_algorithm(ns, algo, '{} - {}'.format(filename, algo.__name__),\n",
    "                           ax, only_greater)\n",
    "    fig.savefig(\"{}.pdf\".format(filename))"
   ]
  },
  {
   "cell_type": "code",
   "execution_count": null,
   "metadata": {
    "collapsed": false
   },
   "outputs": [
    {
     "name": "stdout",
     "output_type": "stream",
     "text": [
      "....\n",
      "....\n",
      "....\n",
      "..."
     ]
    }
   ],
   "source": [
    "%time evaluate_all(np.arange(0, 100, 25), \"100_rls_ge\", (rls,), only_greater=False)\n",
    "# %time evaluate_all(np.arange(0, 2000, 25), \"2000_rls\", (rls,), only_greater=False)"
   ]
  },
  {
   "cell_type": "code",
   "execution_count": null,
   "metadata": {
    "collapsed": false
   },
   "outputs": [],
   "source": [
    "%time evaluate_all(np.arange(0, 100, 25), \"100_rls_g\", (rls,), only_greater=True)\n",
    "# %time evaluate_all(np.arange(0, 1000, 25), \"2000_rls_greater\", (rls,), only_greater=False)"
   ]
  },
  {
   "cell_type": "markdown",
   "metadata": {},
   "source": [
    "### Analysis"
   ]
  },
  {
   "cell_type": "markdown",
   "metadata": {},
   "source": [
    "##### 1.) Random Local Search\n",
    "**TODO:**\n",
    "\n",
    "##### 2.) Evolutionary Algorithm - (1+1)-EA\n",
    "**TODO:**\n",
    "\n",
    "##### 3.) Evolutionary Algorithm - (1+$\\lambda$)-EA\n",
    "**TODO:**\n"
   ]
  }
 ],
 "metadata": {
  "kernelspec": {
   "display_name": "Python 3",
   "language": "python",
   "name": "python3"
  },
  "language_info": {
   "codemirror_mode": {
    "name": "ipython",
    "version": 3
   },
   "file_extension": ".py",
   "mimetype": "text/x-python",
   "name": "python",
   "nbconvert_exporter": "python",
   "pygments_lexer": "ipython3",
   "version": "3.5.2"
  }
 },
 "nbformat": 4,
 "nbformat_minor": 1
}
