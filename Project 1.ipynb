{
 "cells": [
  {
   "cell_type": "code",
   "execution_count": 328,
   "metadata": {
    "collapsed": true
   },
   "outputs": [],
   "source": [
    "from matplotlib import pyplot as plt\n",
    "import matplotlib as mpl\n",
    "import numpy as np\n",
    "%matplotlib inline"
   ]
  },
  {
   "cell_type": "markdown",
   "metadata": {},
   "source": [
    "### Target functions"
   ]
  },
  {
   "cell_type": "code",
   "execution_count": 437,
   "metadata": {},
   "outputs": [],
   "source": [
    "def one_max(x):\n",
    "    return x.sum()\n",
    "\n",
    "def leading_ones(x):\n",
    "    is_one = x == 1\n",
    "    if all(is_one):\n",
    "        return len(x)\n",
    "    return np.argmin(is_one)\n",
    "\n",
    "def jump(x, k=3):\n",
    "    sum_ = x.sum()\n",
    "    if len(x) == sum_:\n",
    "        return len(x)\n",
    "    return min(len(x) - k, sum_)\n",
    "\n",
    "def bin_val(x):\n",
    "    sum_ = 0\n",
    "    for i, bit in enumerate(reversed(x)):\n",
    "        if bit:\n",
    "            sum_ += bit * 2**i\n",
    "    return sum_\n",
    "\n",
    "def royal_roads(x, k=5):\n",
    "    # assert len(x) % k == 0, 'n must be divisible by k'\n",
    "    return np.sum(np.sum(np.split(x, len(x) / k), axis=1) == k)\n",
    "\n",
    "def is_max(x):\n",
    "    # Return if x is the maximal possible value\n",
    "    return x.sum() == len(x)"
   ]
  },
  {
   "cell_type": "markdown",
   "metadata": {},
   "source": [
    "### Optimization functions (\"evolutionary algorithms\")"
   ]
  },
  {
   "cell_type": "markdown",
   "metadata": {},
   "source": [
    "Algorithm 1: RLS\n",
    "\n",
    "    1 Choose x uniformly at random from {0, 1}^n;\n",
    "    2 while stopping criterion not met do\n",
    "    3   y ← x;\n",
    "    4   Choose i uniformly at random from {1, . . . , n};\n",
    "    5   yi ← (1 − yi);\n",
    "    6   if f(y) ≥ f(x) then x ← y;"
   ]
  },
  {
   "cell_type": "code",
   "execution_count": 436,
   "metadata": {},
   "outputs": [],
   "source": [
    "def rls(n, target_func, only_greater=False):\n",
    "    x = np.random.randint(0, 2, n)\n",
    "    steps = 0\n",
    "    while not is_max(x):\n",
    "        y = x.copy()\n",
    "        idx = np.random.randint(len(y))\n",
    "        y[idx] = not y[idx]\n",
    "        if (target_func(y) > target_func(x) or\n",
    "                (not only_greater and target_func(y) == target_func(x))):\n",
    "            x = y\n",
    "        steps += 1\n",
    "    return steps"
   ]
  },
  {
   "cell_type": "markdown",
   "metadata": {},
   "source": [
    "Algorithm 2: (1+1)-EA\n",
    "\n",
    "Choose x uniformly at random from {0,1}^n; \n",
    "while stopping criterion not met do\n",
    "y <- x;\n",
    "foreach i {1,...,n} do\n",
    "    With probability 1/n, yi <- (1 - yi);\n",
    "if f(y) >= f(x) then x <- y;"
   ]
  },
  {
   "cell_type": "code",
   "execution_count": 434,
   "metadata": {
    "collapsed": true
   },
   "outputs": [],
   "source": [
    "# TODO: Evolutionary algorithm (1+1)-EA\n",
    "def oneOneEA(n, target_func, only_greater=False):\n",
    "    x = np.random.randint(0, 2, n)\n",
    "    steps = 0\n",
    "    negate = np.vectorize(lambda x: not x)\n",
    "    while not is_max(x):\n",
    "        y = x.copy()\n",
    "        probabilities = np.random.binomial(1, 1/n, n)\n",
    "        y = probabilities * negate(y) + negate(probabilites) * y \n",
    "        if (target_func(y) > target_func(x) or\n",
    "                (not only_greater and target_func(y) == target_func(x))):\n",
    "            x = y\n",
    "        steps += 1\n",
    "    return steps"
   ]
  },
  {
   "cell_type": "code",
   "execution_count": 435,
   "metadata": {
    "collapsed": true
   },
   "outputs": [],
   "source": [
    "# TODO: Evolutionary algorithm lambda (1+lambda)-EA"
   ]
  },
  {
   "cell_type": "markdown",
   "metadata": {},
   "source": [
    "### Evaluation"
   ]
  },
  {
   "cell_type": "code",
   "execution_count": 457,
   "metadata": {},
   "outputs": [],
   "source": [
    "def evaluate(n, opt_func, problem, only_greater=False):\n",
    "    problem_runtimes = np.empty(10)\n",
    "    for i in range(10):\n",
    "        problem_runtimes[i] = opt_func(n, problem, only_greater)\n",
    "    return problem_runtimes\n",
    "\n",
    "def evaluate_problem(ns, opt_func, problem, ax, only_greater=False):\n",
    "    problems_runtimes = np.empty((len(ns), 10))\n",
    "    for i, n in enumerate(ns):\n",
    "        problems_runtimes[i] = evaluate(n, opt_func, problem, only_greater)\n",
    "        print(\".\", end=\"\")\n",
    "    print(\"\")\n",
    "    ax.plot(problems_runtimes.mean(axis=1), label=problem.__name__)\n",
    "    return problems_runtimes\n",
    "\n",
    "def evaluate_algorithm(ns, opt_func, title, problems, ax, only_greater=False):\n",
    "    # One optimizing algorithm which gets executed on all given problems\n",
    "    algorithm_runtimes = np.empty((len(problems), len(ns), 10))\n",
    "    for i, p in enumerate(problems):\n",
    "        algorithm_runtimes[i] = evaluate_problem(ns, opt_func, p, ax, only_greater)\n",
    "    # Plotting settings\n",
    "    if len(ns) > 40:\n",
    "        # Only show each 20th tick on the x axis\n",
    "        plt.xticks(np.arange(0, len(ns), len(ns) // 20), ns[::len(ns) // 20])\n",
    "    else:\n",
    "        plt.xticks(np.arange(0, len(ns)), ns)\n",
    "    ax.set_xlabel('n')\n",
    "    ax.set_ylabel('Steps')\n",
    "    ax.set_title(title)\n",
    "    ax.set_yscale('log')\n",
    "    ax.legend()\n",
    "    return algorithm_runtimes\n",
    "\n",
    "def evaluate_all(ns, algos, problems, only_greater=False):\n",
    "    filename = \"{} - {}\".format(ns[-1], \"g\" if only_greater else \"ge\")\n",
    "    # All optimizing algorithm are executed on all given problems\n",
    "    fig, axes = plt.subplots(len(algos), 1, figsize=(16, 8 * len(algos)))\n",
    "    # Hotfix to make \"axes.flat\" work for only one algorithm\n",
    "    if len(algos) == 1:\n",
    "        axes = np.array([axes])\n",
    "    for algo, ax in zip(algos, axes.flat):\n",
    "        evaluate_algorithm(ns, algo, '{} - {}'.format(filename, algo.__name__),\n",
    "                           problems, ax, only_greater)\n",
    "    # Contains n and the only_greater flag\n",
    "    fig.savefig(\"{}.pdf\".format(filename))"
   ]
  },
  {
   "cell_type": "code",
   "execution_count": 458,
   "metadata": {
    "collapsed": false
   },
   "outputs": [
    {
     "name": "stdout",
     "output_type": "stream",
     "text": [
      "........\n",
      "........\n",
      "........\n",
      "........\n",
      "Wall time: 34min 38s\n"
     ]
    },
    {
     "data": {
      "image/png": "iVBORw0KGgoAAAANSUhEUgAABS0AAAK9CAYAAADBtEmyAAAABHNCSVQICAgIfAhkiAAAAAlwSFlz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
      "text/plain": [
       "<matplotlib.figure.Figure at 0x1f843010f28>"
      ]
     },
     "metadata": {},
     "output_type": "display_data"
    }
   ],
   "source": [
    "algorithms = (rls,)\n",
    "problems = (one_max, leading_ones, jump, royal_roads) # bin_val\n",
    "%time evaluate_all(np.arange(25, 201, 25), algorithms, problems, only_greater=False)"
   ]
  },
  {
   "cell_type": "code",
   "execution_count": null,
   "metadata": {},
   "outputs": [
    {
     "name": "stdout",
     "output_type": "stream",
     "text": [
      "........\n",
      "........\n"
     ]
    }
   ],
   "source": [
    "%time evaluate_all(np.arange(25, 201, 25), algorithms, problems, only_greater=True)"
   ]
  },
  {
   "cell_type": "markdown",
   "metadata": {},
   "source": [
    "### Analysis"
   ]
  },
  {
   "cell_type": "markdown",
   "metadata": {},
   "source": [
    "##### 1.) Random Local Search\n",
    "**TODO:**\n",
    "\n",
    "##### 2.) Evolutionary Algorithm - (1+1)-EA\n",
    "**TODO:**\n",
    "\n",
    "##### 3.) Evolutionary Algorithm - (1+$\\lambda$)-EA\n",
    "**TODO:**\n"
   ]
  }
 ],
 "metadata": {
  "kernelspec": {
   "display_name": "Python 3",
   "language": "python",
   "name": "python3"
  },
  "language_info": {
   "codemirror_mode": {
    "name": "ipython",
    "version": 3
   },
   "file_extension": ".py",
   "mimetype": "text/x-python",
   "name": "python",
   "nbconvert_exporter": "python",
   "pygments_lexer": "ipython3",
   "version": "3.6.1"
  }
 },
 "nbformat": 4,
 "nbformat_minor": 1
}
