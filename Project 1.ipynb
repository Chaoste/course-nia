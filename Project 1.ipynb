{
 "cells": [
  {
   "cell_type": "code",
   "execution_count": 8,
   "metadata": {
    "collapsed": true
   },
   "outputs": [],
   "source": [
    "from matplotlib import pyplot as plt\n",
    "import matplotlib as mpl\n",
    "import numpy as np\n",
    "%matplotlib inline"
   ]
  },
  {
   "cell_type": "markdown",
   "metadata": {},
   "source": [
    "### Target functions"
   ]
  },
  {
   "cell_type": "code",
   "execution_count": 9,
   "metadata": {},
   "outputs": [],
   "source": [
    "def one_max(x):\n",
    "    return x.sum()\n",
    "\n",
    "def leading_ones(x):\n",
    "    is_one = x == 1\n",
    "    if all(is_one):\n",
    "        return len(x)\n",
    "    return np.argmin(is_one)\n",
    "\n",
    "def jump(x, k=3):\n",
    "    sum_ = x.sum()\n",
    "    if len(x) == sum_:\n",
    "        return len(x)\n",
    "    return min(len(x) - k, sum_)\n",
    "\n",
    "def bin_val(x):\n",
    "    sum_ = 0\n",
    "    for i, bit in enumerate(reversed(x)):\n",
    "        if bit:\n",
    "            sum_ += bit * 2**i\n",
    "    return sum_\n",
    "\n",
    "def royal_roads(x, k=5):\n",
    "    # assert len(x) % k == 0, 'n must be divisible by k'\n",
    "    return np.sum(np.sum(np.split(x, len(x) / k), axis=1) == k)\n",
    "\n",
    "def is_max(x):\n",
    "    # Return if x is the maximal possible value\n",
    "    return x.sum() == len(x)"
   ]
  },
  {
   "cell_type": "markdown",
   "metadata": {},
   "source": [
    "### Optimization functions (\"evolutionary algorithms\")"
   ]
  },
  {
   "cell_type": "markdown",
   "metadata": {},
   "source": [
    "Algorithm 1: RLS\n",
    "\n",
    "    1 Choose x uniformly at random from {0, 1}^n;\n",
    "    2 while stopping criterion not met do\n",
    "    3   y ← x;\n",
    "    4   Choose i uniformly at random from {1, . . . , n};\n",
    "    5   yi ← (1 − yi);\n",
    "    6   if f(y) ≥ f(x) then x ← y;"
   ]
  },
  {
   "cell_type": "code",
   "execution_count": 10,
   "metadata": {},
   "outputs": [],
   "source": [
    "def rls(n, target_func, only_greater=False):\n",
    "    x = np.random.randint(0, 2, n)\n",
    "    steps = 0\n",
    "    while not is_max(x):\n",
    "        y = x.copy()\n",
    "        idx = np.random.randint(len(y))\n",
    "        y[idx] = not y[idx]\n",
    "        if (target_func(y) > target_func(x) or\n",
    "                (not only_greater and target_func(y) == target_func(x))):\n",
    "            x = y\n",
    "        steps += 1\n",
    "    return steps"
   ]
  },
  {
   "cell_type": "code",
   "execution_count": 11,
   "metadata": {
    "collapsed": true
   },
   "outputs": [],
   "source": [
    "# TODO: Evolutionary algorithm (1+1)-EA\n",
    "def oneOneEA(n, target_func, only_greater=False):\n",
    "    x = np.random.randint(0, 2, n)\n",
    "    steps = 0\n",
    "    negate = np.vectorize(lambda x: not x)\n",
    "    while not is_max(x):\n",
    "        y = x.copy()\n",
    "        probabilities = np.random.binomial(1, 1/n, n)\n",
    "        y = probabilities * negate(y) + negate(probabilities) * y \n",
    "        if (target_func(y) > target_func(x) or\n",
    "                (not only_greater and target_func(y) == target_func(x))):\n",
    "            x = y\n",
    "        steps += 1\n",
    "    return steps"
   ]
  },
  {
   "cell_type": "code",
   "execution_count": 12,
   "metadata": {
    "collapsed": true
   },
   "outputs": [],
   "source": [
    "# TODO: Evolutionary algorithm lambda (1+lambda)-EA"
   ]
  },
  {
   "cell_type": "markdown",
   "metadata": {},
   "source": [
    "### Evaluation"
   ]
  },
  {
   "cell_type": "code",
   "execution_count": 13,
   "metadata": {},
   "outputs": [],
   "source": [
    "def evaluate(n, opt_func, problem, only_greater=False):\n",
    "    problem_runtimes = np.empty(10)\n",
    "    for i in range(10):\n",
    "        problem_runtimes[i] = opt_func(n, problem, only_greater)\n",
    "    return problem_runtimes\n",
    "\n",
    "def evaluate_problem(ns, opt_func, problem, ax, only_greater=False):\n",
    "    problems_runtimes = np.empty((len(ns), 10))\n",
    "    for i, n in enumerate(ns):\n",
    "        problems_runtimes[i] = evaluate(n, opt_func, problem, only_greater)\n",
    "        print(\".\", end=\"\")\n",
    "    print(\"\")\n",
    "    ax.plot(problems_runtimes.mean(axis=1), label=problem.__name__)\n",
    "    return problems_runtimes\n",
    "\n",
    "def evaluate_algorithm(ns, opt_func, title, problems, ax, only_greater=False):\n",
    "    # One optimizing algorithm which gets executed on all given problems\n",
    "    algorithm_runtimes = np.empty((len(problems), len(ns), 10))\n",
    "    for i, p in enumerate(problems):\n",
    "        algorithm_runtimes[i] = evaluate_problem(ns, opt_func, p, ax, only_greater)\n",
    "    # Plotting settings\n",
    "    if len(ns) > 40:\n",
    "        # Only show each 20th tick on the x axis\n",
    "        plt.xticks(np.arange(0, len(ns), len(ns) // 20), ns[::len(ns) // 20])\n",
    "    else:\n",
    "        plt.xticks(np.arange(0, len(ns)), ns)\n",
    "    ax.set_xlabel('n')\n",
    "    ax.set_ylabel('Steps')\n",
    "    ax.set_title(title)\n",
    "    ax.set_yscale('log')\n",
    "    ax.legend()\n",
    "    return algorithm_runtimes\n",
    "\n",
    "def evaluate_all(ns, algos, problems, only_greater=False):\n",
    "    filename = \"{} - {}\".format(ns[-1], \"g\" if only_greater else \"ge\")\n",
    "    # All optimizing algorithm are executed on all given problems\n",
    "    fig, axes = plt.subplots(len(algos), 1, figsize=(16, 8 * len(algos)))\n",
    "    # Hotfix to make \"axes.flat\" work for only one algorithm\n",
    "    if len(algos) == 1:\n",
    "        axes = np.array([axes])\n",
    "    for algo, ax in zip(algos, axes.flat):\n",
    "        evaluate_algorithm(ns, algo, '{} - {}'.format(filename, algo.__name__),\n",
    "                           problems, ax, only_greater)\n",
    "    # Contains n and the only_greater flag\n",
    "    fig.savefig(\"{}.pdf\".format(filename))"
   ]
  },
  {
   "cell_type": "code",
   "execution_count": null,
   "metadata": {},
   "outputs": [
    {
     "name": "stdout",
     "output_type": "stream",
     "text": [
      "..\n",
      "..\n",
      "..\n",
      "..\n",
      "..\n",
      "..\n",
      "..\n",
      "."
     ]
    }
   ],
   "source": [
    "algorithms = (rls, oneOneEA)\n",
    "problems = (one_max, leading_ones, jump, royal_roads) # bin_val\n",
    "%time evaluate_all(np.arange(25, 51, 25), algorithms, problems, only_greater=False)"
   ]
  },
  {
   "cell_type": "code",
   "execution_count": null,
   "metadata": {},
   "outputs": [
    {
     "name": "stdout",
     "output_type": "stream",
     "text": [
      "........\n",
      "........\n"
     ]
    }
   ],
   "source": [
    "%time evaluate_all(np.arange(25, 201, 25), algorithms, problems, only_greater=True)"
   ]
  },
  {
   "cell_type": "markdown",
   "metadata": {},
   "source": [
    "### Analysis"
   ]
  },
  {
   "cell_type": "markdown",
   "metadata": {},
   "source": [
    "##### 1.) Random Local Search\n",
    "**TODO:**\n",
    "\n",
    "##### 2.) Evolutionary Algorithm - (1+1)-EA\n",
    "**TODO:**\n",
    "\n",
    "##### 3.) Evolutionary Algorithm - (1+$\\lambda$)-EA\n",
    "**TODO:**\n"
   ]
  }
 ],
 "metadata": {
  "kernelspec": {
   "display_name": "Python 3",
   "language": "python",
   "name": "python3"
  },
  "language_info": {
   "codemirror_mode": {
    "name": "ipython",
    "version": 3
   },
   "file_extension": ".py",
   "mimetype": "text/x-python",
   "name": "python",
   "nbconvert_exporter": "python",
   "pygments_lexer": "ipython3",
   "version": "3.6.1"
  }
 },
 "nbformat": 4,
 "nbformat_minor": 1
}
